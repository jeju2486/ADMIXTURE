{
 "cells": [
  {
   "cell_type": "code",
   "execution_count": 1,
   "id": "4bc808aa",
   "metadata": {},
   "outputs": [
    {
     "name": "stdout",
     "output_type": "stream",
     "text": [
      "currrent directory is :C:\\ADMIXTURE\\ADMIXTURE_result\n",
      "['3', '4', '5', '6', '7']\n"
     ]
    }
   ],
   "source": [
    "#! /usr/bin/env python\n",
    "import re, os, gzip\n",
    "from operator import itemgetter\n",
    "import numpy as np\n",
    "\n",
    "os.chdir(\"C:\\\\ADMIXTURE\")\n",
    "\n",
    "def column(mat, i):\n",
    "    return [row[i] for row in mat]\n",
    "\n",
    "inFile = \"HGDP.hg19\"\n",
    "maxK = 7\n",
    "nreps = 5\n",
    "\n",
    "outFile = inFile + \"_topruns.Q\"\n",
    "\n",
    "## Define a focal population to decide order in K=2 case\n",
    "tpop = 'Biaka'\n",
    "r1 = os.getcwd() + \"/ADMIXTURE_result/\"; os.chdir(r1)\n",
    "print(\"currrent directory is :\"+os.getcwd())\n",
    "\n",
    "Kvals = [str(val) for val in range(3, int(maxK)+1)]; nreps = int(nreps)\n",
    "print(Kvals)"
   ]
  },
  {
   "cell_type": "code",
   "execution_count": 2,
   "id": "6bc5b929",
   "metadata": {},
   "outputs": [
    {
     "name": "stdout",
     "output_type": "stream",
     "text": [
      "K = 2\t1st - 5th = 3.443575009703636\n",
      "K = 3\t1st - 5th = 11.73717100918293\n",
      "K = 4\t1st - 5th = 15.03914400935173\n",
      "K = 5\t1st - 5th = 24025.132012993097\n",
      "K = 6\t1st - 5th = 73257.69342599809\n"
     ]
    }
   ],
   "source": [
    "## Import Loglikelihood information; assess convergence; return the top run\n",
    "temp_LLs = [line.strip().split() for line in open(inFile + \"_LL\", \"r\").readlines()]\n",
    "LLs = [[float(val) for val in column(temp_LLs, i)] for i in range(len(temp_LLs[0]))]\n",
    "\n",
    "tnums = []\n",
    "for k,LL in enumerate(LLs):\n",
    "    t1s = [[i+1,val] for i,val in enumerate(LL)]\n",
    "    t1s = sorted(t1s, key=itemgetter(1), reverse=True)\n",
    "    tnums.append(str(t1s[0][0]))\n",
    "    if nreps >= 5:\n",
    "        tdiff1 = t1s[0][1] - t1s[4][1]\n",
    "        string = \"K = \" + str(k+2) + \"\\t1st - 5th = \" + str(tdiff1)\n",
    "    if nreps >= 10:\n",
    "        tdiff2 = t1s[0][1] - t1s[9][1]\n",
    "        string += \"\\t1st - 10th = \" + str(tdiff2)\n",
    "    if nreps >= 5:\n",
    "        print(string)"
   ]
  },
  {
   "cell_type": "code",
   "execution_count": 3,
   "id": "74005517",
   "metadata": {},
   "outputs": [
    {
     "name": "stdout",
     "output_type": "stream",
     "text": [
      "First top run Q matrix is : \n",
      "[b'0.000010', b'0.000010', b'0.000010', b'0.999940', b'0.000010', b'0.000010', b'0.000010']\n"
     ]
    }
   ],
   "source": [
    "## Import top run Q matrices composed of proportion data of K ancestors\n",
    "Qs = []\n",
    "for i,Kval in enumerate(Kvals):\n",
    "    tpname = inFile + \"_K\" + Kval + \"_\" + tnums[i] + \".Q.gz\"\n",
    "    t1s = [line.strip().split()[2:] for line in gzip.open(tpname, \"rb\").readlines()]\n",
    "    Qs.append([[float(val) for val in column(t1s,j)] for j in range(len(t1s[0]))])\n",
    "    if i == 0:\n",
    "        headers = [line.decode('UTF-8').strip().split()[0:2] for line in gzip.open(tpname, \"rb\").readlines()]\n",
    "        \n",
    "print(\"First top run Q matrix is : \")\n",
    "print(t1s[1])"
   ]
  },
  {
   "cell_type": "code",
   "execution_count": 7,
   "id": "34dba3a5",
   "metadata": {},
   "outputs": [],
   "source": [
    "## Define order in K = 2 case\n",
    "if \"fpop\" in locals():\n",
    "    tmns = [[np.mean([v for i,v in enumerate(vs) if headers[i][0] == fpop]),j] for j,vs in enumerate(Qs[0])]\n",
    "    torders = [v[1] for v in sorted(tmns, key=itemgetter(0))]\n",
    "    Q2s = []; Q2s.append([[val for val in Qs[0][i]] for i in torders])\n",
    "\n",
    "\n",
    "if \"fpop\" not in locals():\n",
    "    Q2s = []; Q2s.append([[val for val in qvec] for qvec in Qs[0]])\n",
    "\n",
    "\n",
    "\n",
    "## Re-order columns by finding similar columns in previous K value\n",
    "for i in range(1, len(Qs)):\n",
    "    onums = []\n",
    "    for q1 in Q2s[i-1]:\n",
    "        v1 = np.array([val for val in q1])\n",
    "        t1s = [[j,sum(abs(v1 - np.array([val for val in q2])))] for j,q2 in enumerate(Qs[i])]\n",
    "        t2s = [val[0] for val in sorted(t1s, key=itemgetter(1))]\n",
    "        tmax = [t2 for t2 in t2s if t2 not in onums][0]\n",
    "        onums.append(tmax)\n",
    "    onums.extend(list(set(range(i+2))-set(onums)))\n",
    "    Q2s.append([[val for val in Qs[i][j]] for j in onums])"
   ]
  },
  {
   "cell_type": "code",
   "execution_count": 8,
   "id": "b8d2f44e",
   "metadata": {},
   "outputs": [
    {
     "name": "stdout",
     "output_type": "stream",
     "text": [
      "Concatenated Q matrix looks like: \n",
      "[0.99994, 0.99994, 0.99994, 0.99994, 0.934961, 0.948739, 0.967248, 0.99994, 0.99994]\n"
     ]
    }
   ],
   "source": [
    "## Export output in a big concatenated table\n",
    "d1s = [column(headers,0), column(headers,1)]\n",
    "hvec = [\"Pop\", \"ID\"]\n",
    "for i,Q2 in enumerate(Q2s):\n",
    "    hvec.extend([\"K\" + str(i+3) + \":\" + str(val) for val in range(1,i+4)])\n",
    "    for qvec in Q2:\n",
    "        d1s.append([\"{0:.5f}\".format(qval, 5) for qval in qvec])\n",
    "\n",
    "F1 = open(outFile, \"w\")\n",
    "F1.writelines(' '.join(hvec) + \"\\n\")\n",
    "\n",
    "for i in range(len(headers)):\n",
    "    F1.writelines(' '.join(column(d1s,i)) + \"\\n\")\n",
    "\n",
    "F1.close()\n",
    "\n",
    "print(\"Concatenated Q matrix looks like: \")\n",
    "print(Q2[1][1:10])\n",
    "\n",
    "path = r1+outFile\n",
    "with open(path,'rb') as f_in:\n",
    "    with gzip.open(path+'.gz','wb') as f_out:\n",
    "        f_out.writelines(f_in)"
   ]
  }
 ],
 "metadata": {
  "kernelspec": {
   "display_name": "Python 3 (ipykernel)",
   "language": "python",
   "name": "python3"
  },
  "language_info": {
   "codemirror_mode": {
    "name": "ipython",
    "version": 3
   },
   "file_extension": ".py",
   "mimetype": "text/x-python",
   "name": "python",
   "nbconvert_exporter": "python",
   "pygments_lexer": "ipython3",
   "version": "3.9.6"
  }
 },
 "nbformat": 4,
 "nbformat_minor": 5
}
